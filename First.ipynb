{
 "cells": [
  {
   "cell_type": "markdown",
   "metadata": {},
   "source": [
    "# Chapter 3"
   ]
  },
  {
   "cell_type": "markdown",
   "metadata": {},
   "source": [
    "memo"
   ]
  },
  {
   "cell_type": "code",
   "execution_count": null,
   "metadata": {},
   "outputs": [],
   "source": []
  },
  {
   "cell_type": "code",
   "execution_count": 1,
   "metadata": {
    "scrolled": true
   },
   "outputs": [
    {
     "name": "stdout",
     "output_type": "stream",
     "text": [
      "Hello,World!\n",
      "Hello,World!\n",
      "Hello,World!\n",
      "Hello,World!\n",
      "Hello,World!\n",
      "Hello,World!\n",
      "Hello,World!\n",
      "Hello,World!\n",
      "Hello,World!\n",
      "Hello,World!\n",
      "Hello,World!\n",
      "Hello,World!\n",
      "Hello,World!\n",
      "Hello,World!\n",
      "Hello,World!\n",
      "Hello,World!\n",
      "Hello,World!\n",
      "Hello,World!\n",
      "Hello,World!\n",
      "Hello,World!\n",
      "Hello,World!\n",
      "Hello,World!\n",
      "Hello,World!\n",
      "Hello,World!\n",
      "Hello,World!\n",
      "Hello,World!\n",
      "Hello,World!\n",
      "Hello,World!\n",
      "Hello,World!\n",
      "Hello,World!\n",
      "Hello,World!\n",
      "Hello,World!\n",
      "Hello,World!\n",
      "Hello,World!\n",
      "Hello,World!\n",
      "Hello,World!\n",
      "Hello,World!\n",
      "Hello,World!\n",
      "Hello,World!\n",
      "Hello,World!\n",
      "Hello,World!\n",
      "Hello,World!\n",
      "Hello,World!\n",
      "Hello,World!\n",
      "Hello,World!\n",
      "Hello,World!\n",
      "Hello,World!\n",
      "Hello,World!\n",
      "Hello,World!\n",
      "Hello,World!\n",
      "Hello,World!\n",
      "Hello,World!\n",
      "Hello,World!\n",
      "Hello,World!\n",
      "Hello,World!\n",
      "Hello,World!\n",
      "Hello,World!\n",
      "Hello,World!\n",
      "Hello,World!\n",
      "Hello,World!\n",
      "Hello,World!\n",
      "Hello,World!\n",
      "Hello,World!\n",
      "Hello,World!\n",
      "Hello,World!\n",
      "Hello,World!\n",
      "Hello,World!\n",
      "Hello,World!\n",
      "Hello,World!\n",
      "Hello,World!\n",
      "Hello,World!\n",
      "Hello,World!\n",
      "Hello,World!\n",
      "Hello,World!\n",
      "Hello,World!\n",
      "Hello,World!\n",
      "Hello,World!\n",
      "Hello,World!\n",
      "Hello,World!\n",
      "Hello,World!\n",
      "Hello,World!\n",
      "Hello,World!\n",
      "Hello,World!\n",
      "Hello,World!\n",
      "Hello,World!\n",
      "Hello,World!\n",
      "Hello,World!\n",
      "Hello,World!\n",
      "Hello,World!\n",
      "Hello,World!\n",
      "Hello,World!\n",
      "Hello,World!\n",
      "Hello,World!\n",
      "Hello,World!\n",
      "Hello,World!\n",
      "Hello,World!\n",
      "Hello,World!\n",
      "Hello,World!\n",
      "Hello,World!\n",
      "Hello,World!\n"
     ]
    }
   ],
   "source": [
    "for i in range(100):\n",
    "    print(\"Hello,World!\")"
   ]
  },
  {
   "cell_type": "code",
   "execution_count": 2,
   "metadata": {},
   "outputs": [
    {
     "name": "stdout",
     "output_type": "stream",
     "text": [
      "Hello,World!\n"
     ]
    }
   ],
   "source": [
    "#これはコメントです\n",
    "print(\"Hello,World!\")"
   ]
  },
  {
   "cell_type": "code",
   "execution_count": 3,
   "metadata": {},
   "outputs": [
    {
     "name": "stdout",
     "output_type": "stream",
     "text": [
      "Hello, World!\n"
     ]
    }
   ],
   "source": [
    "#print Hello, World!\n",
    "print(\"Hello, World!\")"
   ]
  },
  {
   "cell_type": "code",
   "execution_count": 19,
   "metadata": {},
   "outputs": [
    {
     "name": "stdout",
     "output_type": "stream",
     "text": [
      "10.770329614269007\n"
     ]
    }
   ],
   "source": [
    "import math\n",
    "\n",
    "# 対角線の長さ\n",
    "l = 4\n",
    "w = 10\n",
    "d = math.sqrt(l**2 + w**2)\n",
    " \n",
    "print(d)"
   ]
  },
  {
   "cell_type": "code",
   "execution_count": 18,
   "metadata": {},
   "outputs": [
    {
     "name": "stdout",
     "output_type": "stream",
     "text": [
      "Python\n"
     ]
    }
   ],
   "source": [
    "print(\"Python\")"
   ]
  },
  {
   "cell_type": "code",
   "execution_count": 6,
   "metadata": {},
   "outputs": [
    {
     "name": "stdout",
     "output_type": "stream",
     "text": [
      "こんにちは！\n"
     ]
    }
   ],
   "source": [
    "print(\"こんにちは！\")"
   ]
  },
  {
   "cell_type": "code",
   "execution_count": 7,
   "metadata": {},
   "outputs": [],
   "source": [
    "# line1\n",
    "# line2 \n",
    "# line3"
   ]
  },
  {
   "cell_type": "code",
   "execution_count": 8,
   "metadata": {},
   "outputs": [
    {
     "name": "stdout",
     "output_type": "stream",
     "text": [
      "これは、とても、とても、とても、とても長い複数行のコードです。\n"
     ]
    }
   ],
   "source": [
    "print(\"\"\"これは、とても、とても、とても、とても長い複数行のコードです。\"\"\")"
   ]
  },
  {
   "cell_type": "code",
   "execution_count": 9,
   "metadata": {
    "scrolled": true
   },
   "outputs": [
    {
     "name": "stdout",
     "output_type": "stream",
     "text": [
      "これは、とても、とても、とても、とても長い複数行のコードです。\n"
     ]
    }
   ],
   "source": [
    "print\\\n",
    "(\"\"\"これは、とても、とても、とても、とても長い複数行のコードです。\"\"\")"
   ]
  },
  {
   "cell_type": "code",
   "execution_count": 21,
   "metadata": {},
   "outputs": [
    {
     "data": {
      "text/plain": [
       "'Hello, World'"
      ]
     },
     "execution_count": 21,
     "metadata": {},
     "output_type": "execute_result"
    }
   ],
   "source": [
    "\"Hello, World\"    "
   ]
  },
  {
   "cell_type": "code",
   "execution_count": 23,
   "metadata": {},
   "outputs": [
    {
     "data": {
      "text/plain": [
       "4.4"
      ]
     },
     "execution_count": 23,
     "metadata": {},
     "output_type": "execute_result"
    }
   ],
   "source": [
    "2.2+2.2"
   ]
  },
  {
   "cell_type": "code",
   "execution_count": 24,
   "metadata": {},
   "outputs": [
    {
     "data": {
      "text/plain": [
       "4"
      ]
     },
     "execution_count": 24,
     "metadata": {},
     "output_type": "execute_result"
    }
   ],
   "source": [
    "2+2"
   ]
  },
  {
   "cell_type": "code",
   "execution_count": 25,
   "metadata": {},
   "outputs": [
    {
     "data": {
      "text/plain": [
       "0"
      ]
     },
     "execution_count": 25,
     "metadata": {},
     "output_type": "execute_result"
    }
   ],
   "source": [
    "2-2"
   ]
  },
  {
   "cell_type": "code",
   "execution_count": 26,
   "metadata": {},
   "outputs": [
    {
     "data": {
      "text/plain": [
       "2.0"
      ]
     },
     "execution_count": 26,
     "metadata": {},
     "output_type": "execute_result"
    }
   ],
   "source": [
    "4/2"
   ]
  },
  {
   "cell_type": "code",
   "execution_count": 27,
   "metadata": {},
   "outputs": [
    {
     "data": {
      "text/plain": [
       "4"
      ]
     },
     "execution_count": 27,
     "metadata": {},
     "output_type": "execute_result"
    }
   ],
   "source": [
    "2*2"
   ]
  },
  {
   "cell_type": "code",
   "execution_count": 29,
   "metadata": {},
   "outputs": [
    {
     "name": "stdout",
     "output_type": "stream",
     "text": [
      "100\n"
     ]
    }
   ],
   "source": [
    "b = 100\n",
    "print(b)"
   ]
  },
  {
   "cell_type": "code",
   "execution_count": 32,
   "metadata": {},
   "outputs": [
    {
     "data": {
      "text/plain": [
       "200"
      ]
     },
     "execution_count": 32,
     "metadata": {},
     "output_type": "execute_result"
    }
   ],
   "source": [
    "x = 100 \n",
    "x\n",
    "\n",
    "x = 200\n",
    "x"
   ]
  },
  {
   "cell_type": "code",
   "execution_count": 33,
   "metadata": {},
   "outputs": [
    {
     "data": {
      "text/plain": [
       "0"
      ]
     },
     "execution_count": 33,
     "metadata": {},
     "output_type": "execute_result"
    }
   ],
   "source": [
    "x = 10\n",
    "y = 10\n",
    "z = x+y\n",
    "z\n",
    "a = x-y\n",
    "a"
   ]
  },
  {
   "cell_type": "code",
   "execution_count": null,
   "metadata": {},
   "outputs": [],
   "source": []
  },
  {
   "cell_type": "code",
   "execution_count": null,
   "metadata": {},
   "outputs": [],
   "source": []
  },
  {
   "cell_type": "code",
   "execution_count": null,
   "metadata": {},
   "outputs": [],
   "source": []
  },
  {
   "cell_type": "code",
   "execution_count": null,
   "metadata": {},
   "outputs": [],
   "source": []
  },
  {
   "cell_type": "code",
   "execution_count": null,
   "metadata": {},
   "outputs": [],
   "source": []
  }
 ],
 "metadata": {
  "kernelspec": {
   "display_name": "Python 3",
   "language": "python",
   "name": "python3"
  },
  "language_info": {
   "codemirror_mode": {
    "name": "ipython",
    "version": 3
   },
   "file_extension": ".py",
   "mimetype": "text/x-python",
   "name": "python",
   "nbconvert_exporter": "python",
   "pygments_lexer": "ipython3",
   "version": "3.8.5"
  }
 },
 "nbformat": 4,
 "nbformat_minor": 4
}
